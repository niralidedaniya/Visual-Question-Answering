{
 "cells": [
  {
   "cell_type": "code",
   "execution_count": null,
   "metadata": {
    "colab": {
     "base_uri": "https://localhost:8080/"
    },
    "id": "SEgeNbSa_xvU",
    "outputId": "e27a0329-7f30-4805-91fb-3b4591c27ca6"
   },
   "outputs": [
    {
     "name": "stdout",
     "output_type": "stream",
     "text": [
      "Drive already mounted at /content/drive; to attempt to forcibly remount, call drive.mount(\"/content/drive\", force_remount=True).\n"
     ]
    }
   ],
   "source": [
    "from google.colab import drive\n",
    "drive.mount('/content/drive')"
   ]
  },
  {
   "cell_type": "code",
   "execution_count": null,
   "metadata": {
    "id": "Sw41-3ON_xy4"
   },
   "outputs": [],
   "source": [
    "import math\n",
    "import pandas as pd\n",
    "import os\n",
    "from os import path\n",
    "from tqdm import tqdm\n",
    "import json\n",
    "import cv2\n",
    "import numpy as np\n",
    "%matplotlib inline\n",
    "import matplotlib.pyplot as plt\n",
    "import seaborn as sns\n",
    "from tqdm import tqdm\n",
    "import datetime\n",
    "import time\n",
    "import random\n",
    "from PIL import Image\n",
    "import pickle\n",
    "import joblib\n",
    "import re\n",
    "\n",
    "from sklearn import preprocessing\n",
    "import tensorflow as tf\n",
    "from keras.layers import Input,Dense,LSTM,Flatten,Dropout,concatenate,Conv1D,MaxPooling2D,Activation\n",
    "from keras.layers import BatchNormalization\n",
    "from keras.layers import Embedding\n",
    "from tensorflow.keras import initializers, regularizers\n",
    "from tensorflow.keras.preprocessing import sequence\n",
    "from tensorflow.keras.models import Model\n",
    "from tensorflow.keras.utils import to_categorical\n",
    "from sklearn.metrics import accuracy_score\n",
    "from sklearn.model_selection import train_test_split\n",
    "from sklearn.utils import shuffle\n",
    "from tensorflow.keras.preprocessing.text import Tokenizer\n",
    "from tensorflow.keras.preprocessing.sequence import pad_sequences\n",
    "# import keras_tuner\n",
    "from tensorflow import keras\n",
    "import tensorflow_hub as hub\n",
    "import imgaug.augmenters as iaa\n",
    "from tensorflow.keras.preprocessing import image, text, sequence\n",
    "from tensorflow.keras.applications.vgg16 import VGG16\n",
    "from tensorflow.keras.preprocessing import image\n",
    "from tensorflow.keras.applications.vgg16 import preprocess_input\n",
    "from tensorflow.keras.callbacks import ModelCheckpoint\n",
    "import numpy as np\n",
    "\n",
    "import warnings\n",
    "warnings.filterwarnings(\"ignore\")"
   ]
  },
  {
   "cell_type": "markdown",
   "metadata": {
    "id": "nUldIKiacB-l"
   },
   "source": [
    "## 1. Error Analysis"
   ]
  },
  {
   "cell_type": "code",
   "execution_count": null,
   "metadata": {
    "id": "pe8-5Nx5aVSW"
   },
   "outputs": [],
   "source": [
    "#  Reaearch Paper Link: https://arxiv.org/pdf/1505.00468.pdf\n",
    "\n",
    "def accuracy_metric(X,Y,encoded_features,model):\n",
    "  \n",
    "  predicted_Y = model.predict(encoded_features,verbose=0)\n",
    "  predicted_class = tf.argmax(predicted_Y, axis=1, output_type=tf.int32)\n",
    "  predicted_ans = labelencoder.inverse_transform(predicted_class)\n",
    "  \n",
    "  acc_val_lst = []\n",
    "  for i in tqdm(range(len(Y))):\n",
    "    acc_val = 0.0\n",
    "    temp = 0\n",
    "  \n",
    "    for actual_ans in (list(X['answers'])[i]).split(\",\"):\n",
    "      if actual_ans == predicted_ans[i]:\n",
    "        temp += 1\n",
    "      \n",
    "    if temp >= 3:\n",
    "      acc_val = 1\n",
    "    else:\n",
    "      acc_val = float(temp)/3\n",
    "  \n",
    "    acc_val_lst.append(acc_val)\n",
    "  \n",
    "  return (sum(acc_val_lst)/len(Y))*100, acc_val_lst"
   ]
  },
  {
   "cell_type": "code",
   "execution_count": null,
   "metadata": {
    "colab": {
     "base_uri": "https://localhost:8080/"
    },
    "id": "QROBCp_aaT6K",
    "outputId": "0ee9e021-12ea-43db-e930-cff9939b4846"
   },
   "outputs": [
    {
     "name": "stdout",
     "output_type": "stream",
     "text": [
      "(4501, 224, 224, 3) (4501, 22)\n"
     ]
    }
   ],
   "source": [
    "colab_path = \"/content/drive/MyDrive/Applied AI/\"\n",
    "test_image= pickle.load(open('/content/drive/MyDrive/Applied AI/CS2/model/test_image_50k_0711.pkl', 'rb'))\n",
    "tokenizer_50k = pickle.load(open('/content/drive/MyDrive/Applied AI/CS2/model/tokenizer_50k.pkl', 'rb'))\n",
    "model = tf.keras.models.load_model('/content/drive/MyDrive/Applied AI/CS2/model/model_2lstm_vgg19_50k_1011_50.h5')\n",
    "labelencoder = pickle.load(open('/content/drive/MyDrive/Applied AI/CS2/model/labelencoder.pkl', 'rb'))\n",
    "\n",
    "test_sequences = tokenizer_50k.texts_to_sequences(list(X_test['question_preprocessed']))\n",
    "test_que = pad_sequences(test_sequences, maxlen=22, padding='post')\n",
    "print(test_image.shape, test_que.shape)"
   ]
  },
  {
   "cell_type": "code",
   "execution_count": null,
   "metadata": {
    "colab": {
     "base_uri": "https://localhost:8080/"
    },
    "id": "5B7Ajw2AaVVv",
    "outputId": "77fd2164-cb00-4c8e-cc1b-adcc785b8f89"
   },
   "outputs": [
    {
     "name": "stderr",
     "output_type": "stream",
     "text": [
      "100%|██████████| 4501/4501 [00:01<00:00, 4074.09it/s]"
     ]
    },
    {
     "name": "stdout",
     "output_type": "stream",
     "text": [
      "\n",
      "Test Accuracy: 44.242\n"
     ]
    },
    {
     "name": "stderr",
     "output_type": "stream",
     "text": [
      "\n"
     ]
    }
   ],
   "source": [
    "Test_accuracy, accuracy_lst = accuracy_metric(X_test,Y_test,[test_que,test_image],model)\n",
    "print(\"\\nTest Accuracy:\",round(Test_accuracy,3))"
   ]
  },
  {
   "cell_type": "code",
   "execution_count": null,
   "metadata": {
    "colab": {
     "base_uri": "https://localhost:8080/",
     "height": 206
    },
    "id": "RiyEKTpOKfUv",
    "outputId": "4f94e535-a9b5-40ed-d168-095a7868be45"
   },
   "outputs": [
    {
     "data": {
      "text/html": [
       "\n",
       "  <div id=\"df-fb2169f4-9937-4bbf-933e-72a10e499fd5\">\n",
       "    <div class=\"colab-df-container\">\n",
       "      <div>\n",
       "<style scoped>\n",
       "    .dataframe tbody tr th:only-of-type {\n",
       "        vertical-align: middle;\n",
       "    }\n",
       "\n",
       "    .dataframe tbody tr th {\n",
       "        vertical-align: top;\n",
       "    }\n",
       "\n",
       "    .dataframe thead th {\n",
       "        text-align: right;\n",
       "    }\n",
       "</style>\n",
       "<table border=\"1\" class=\"dataframe\">\n",
       "  <thead>\n",
       "    <tr style=\"text-align: right;\">\n",
       "      <th></th>\n",
       "      <th>image_id</th>\n",
       "      <th>question_preprocessed</th>\n",
       "      <th>answers</th>\n",
       "      <th>answer</th>\n",
       "      <th>class_label</th>\n",
       "      <th>Accuracy</th>\n",
       "    </tr>\n",
       "  </thead>\n",
       "  <tbody>\n",
       "    <tr>\n",
       "      <th>21712</th>\n",
       "      <td>train2014/COCO_train2014_000000060378.jpg</td>\n",
       "      <td>what color is the bike</td>\n",
       "      <td>black,black,gray,black,black,blue,black,red,bl...</td>\n",
       "      <td>black</td>\n",
       "      <td>127</td>\n",
       "      <td>0.000000</td>\n",
       "    </tr>\n",
       "    <tr>\n",
       "      <th>11079</th>\n",
       "      <td>train2014/COCO_train2014_000000051555.jpg</td>\n",
       "      <td>whose apt is this</td>\n",
       "      <td>man,man,not possible,man on lefts,no clue,man ...</td>\n",
       "      <td>man</td>\n",
       "      <td>528</td>\n",
       "      <td>0.666667</td>\n",
       "    </tr>\n",
       "    <tr>\n",
       "      <th>4295</th>\n",
       "      <td>train2014/COCO_train2014_000000029523.jpg</td>\n",
       "      <td>is she wearing a bathing suit</td>\n",
       "      <td>no,no,no,no,no,no,no,no,no,no</td>\n",
       "      <td>no</td>\n",
       "      <td>583</td>\n",
       "      <td>0.000000</td>\n",
       "    </tr>\n",
       "    <tr>\n",
       "      <th>30709</th>\n",
       "      <td>train2014/COCO_train2014_000000440344.jpg</td>\n",
       "      <td>how many bicycles are there</td>\n",
       "      <td>2,2,2,2,2,2,3,2,2,2</td>\n",
       "      <td>2</td>\n",
       "      <td>14</td>\n",
       "      <td>0.000000</td>\n",
       "    </tr>\n",
       "    <tr>\n",
       "      <th>28512</th>\n",
       "      <td>train2014/COCO_train2014_000000360236.jpg</td>\n",
       "      <td>is this person standing</td>\n",
       "      <td>yes,yes,yes,yes,yes,yes,yes,yes,yes,yes</td>\n",
       "      <td>yes</td>\n",
       "      <td>994</td>\n",
       "      <td>0.000000</td>\n",
       "    </tr>\n",
       "  </tbody>\n",
       "</table>\n",
       "</div>\n",
       "      <button class=\"colab-df-convert\" onclick=\"convertToInteractive('df-fb2169f4-9937-4bbf-933e-72a10e499fd5')\"\n",
       "              title=\"Convert this dataframe to an interactive table.\"\n",
       "              style=\"display:none;\">\n",
       "        \n",
       "  <svg xmlns=\"http://www.w3.org/2000/svg\" height=\"24px\"viewBox=\"0 0 24 24\"\n",
       "       width=\"24px\">\n",
       "    <path d=\"M0 0h24v24H0V0z\" fill=\"none\"/>\n",
       "    <path d=\"M18.56 5.44l.94 2.06.94-2.06 2.06-.94-2.06-.94-.94-2.06-.94 2.06-2.06.94zm-11 1L8.5 8.5l.94-2.06 2.06-.94-2.06-.94L8.5 2.5l-.94 2.06-2.06.94zm10 10l.94 2.06.94-2.06 2.06-.94-2.06-.94-.94-2.06-.94 2.06-2.06.94z\"/><path d=\"M17.41 7.96l-1.37-1.37c-.4-.4-.92-.59-1.43-.59-.52 0-1.04.2-1.43.59L10.3 9.45l-7.72 7.72c-.78.78-.78 2.05 0 2.83L4 21.41c.39.39.9.59 1.41.59.51 0 1.02-.2 1.41-.59l7.78-7.78 2.81-2.81c.8-.78.8-2.07 0-2.86zM5.41 20L4 18.59l7.72-7.72 1.47 1.35L5.41 20z\"/>\n",
       "  </svg>\n",
       "      </button>\n",
       "      \n",
       "  <style>\n",
       "    .colab-df-container {\n",
       "      display:flex;\n",
       "      flex-wrap:wrap;\n",
       "      gap: 12px;\n",
       "    }\n",
       "\n",
       "    .colab-df-convert {\n",
       "      background-color: #E8F0FE;\n",
       "      border: none;\n",
       "      border-radius: 50%;\n",
       "      cursor: pointer;\n",
       "      display: none;\n",
       "      fill: #1967D2;\n",
       "      height: 32px;\n",
       "      padding: 0 0 0 0;\n",
       "      width: 32px;\n",
       "    }\n",
       "\n",
       "    .colab-df-convert:hover {\n",
       "      background-color: #E2EBFA;\n",
       "      box-shadow: 0px 1px 2px rgba(60, 64, 67, 0.3), 0px 1px 3px 1px rgba(60, 64, 67, 0.15);\n",
       "      fill: #174EA6;\n",
       "    }\n",
       "\n",
       "    [theme=dark] .colab-df-convert {\n",
       "      background-color: #3B4455;\n",
       "      fill: #D2E3FC;\n",
       "    }\n",
       "\n",
       "    [theme=dark] .colab-df-convert:hover {\n",
       "      background-color: #434B5C;\n",
       "      box-shadow: 0px 1px 3px 1px rgba(0, 0, 0, 0.15);\n",
       "      filter: drop-shadow(0px 1px 2px rgba(0, 0, 0, 0.3));\n",
       "      fill: #FFFFFF;\n",
       "    }\n",
       "  </style>\n",
       "\n",
       "      <script>\n",
       "        const buttonEl =\n",
       "          document.querySelector('#df-fb2169f4-9937-4bbf-933e-72a10e499fd5 button.colab-df-convert');\n",
       "        buttonEl.style.display =\n",
       "          google.colab.kernel.accessAllowed ? 'block' : 'none';\n",
       "\n",
       "        async function convertToInteractive(key) {\n",
       "          const element = document.querySelector('#df-fb2169f4-9937-4bbf-933e-72a10e499fd5');\n",
       "          const dataTable =\n",
       "            await google.colab.kernel.invokeFunction('convertToInteractive',\n",
       "                                                     [key], {});\n",
       "          if (!dataTable) return;\n",
       "\n",
       "          const docLinkHtml = 'Like what you see? Visit the ' +\n",
       "            '<a target=\"_blank\" href=https://colab.research.google.com/notebooks/data_table.ipynb>data table notebook</a>'\n",
       "            + ' to learn more about interactive tables.';\n",
       "          element.innerHTML = '';\n",
       "          dataTable['output_type'] = 'display_data';\n",
       "          await google.colab.output.renderOutput(dataTable, element);\n",
       "          const docLink = document.createElement('div');\n",
       "          docLink.innerHTML = docLinkHtml;\n",
       "          element.appendChild(docLink);\n",
       "        }\n",
       "      </script>\n",
       "    </div>\n",
       "  </div>\n",
       "  "
      ],
      "text/plain": [
       "                                        image_id  \\\n",
       "21712  train2014/COCO_train2014_000000060378.jpg   \n",
       "11079  train2014/COCO_train2014_000000051555.jpg   \n",
       "4295   train2014/COCO_train2014_000000029523.jpg   \n",
       "30709  train2014/COCO_train2014_000000440344.jpg   \n",
       "28512  train2014/COCO_train2014_000000360236.jpg   \n",
       "\n",
       "               question_preprocessed  \\\n",
       "21712         what color is the bike   \n",
       "11079              whose apt is this   \n",
       "4295   is she wearing a bathing suit   \n",
       "30709    how many bicycles are there   \n",
       "28512        is this person standing   \n",
       "\n",
       "                                                 answers answer  class_label  \\\n",
       "21712  black,black,gray,black,black,blue,black,red,bl...  black          127   \n",
       "11079  man,man,not possible,man on lefts,no clue,man ...    man          528   \n",
       "4295                       no,no,no,no,no,no,no,no,no,no     no          583   \n",
       "30709                                2,2,2,2,2,2,3,2,2,2      2           14   \n",
       "28512            yes,yes,yes,yes,yes,yes,yes,yes,yes,yes    yes          994   \n",
       "\n",
       "       Accuracy  \n",
       "21712  0.000000  \n",
       "11079  0.666667  \n",
       "4295   0.000000  \n",
       "30709  0.000000  \n",
       "28512  0.000000  "
      ]
     },
     "execution_count": 35,
     "metadata": {},
     "output_type": "execute_result"
    }
   ],
   "source": [
    "test_df = X_test\n",
    "test_df['answer'] = list(labelencoder.inverse_transform(list(y_test)))\n",
    "test_df['class_label'] = list(y_test)\n",
    "test_df['Accuracy'] = list(accuracy_lst)\n",
    "test_df.head()"
   ]
  },
  {
   "cell_type": "code",
   "execution_count": null,
   "metadata": {
    "colab": {
     "base_uri": "https://localhost:8080/"
    },
    "id": "08f-Rmq_Ljt1",
    "outputId": "483403d2-0c10-4df5-f464-cf0a37e2619f"
   },
   "outputs": [
    {
     "data": {
      "text/plain": [
       "{0.0, 0.3333333333333333, 0.6666666666666666, 1.0}"
      ]
     },
     "execution_count": 36,
     "metadata": {},
     "output_type": "execute_result"
    }
   ],
   "source": [
    "set(test_df['Accuracy'])"
   ]
  },
  {
   "cell_type": "code",
   "execution_count": null,
   "metadata": {
    "colab": {
     "base_uri": "https://localhost:8080/"
    },
    "id": "GaUnEvhxf_xX",
    "outputId": "c1b8dbf6-d5ec-4867-9267-f0047cf9d85a"
   },
   "outputs": [
    {
     "name": "stdout",
     "output_type": "stream",
     "text": [
      "Only 458 datapoints have accuracy 0.33 or 0.66, so add them with correct datapoints.\n"
     ]
    }
   ],
   "source": [
    "print(f\"Only {len(test_df[(test_df.Accuracy != 0) & (test_df.Accuracy != 1)])} datapoints have accuracy 0.33 or 0.66, so add them with correct datapoints.\")"
   ]
  },
  {
   "cell_type": "code",
   "execution_count": null,
   "metadata": {
    "colab": {
     "base_uri": "https://localhost:8080/"
    },
    "id": "f9FLB9vDI09i",
    "outputId": "08160d43-f4a9-44d7-ea95-b9b8dd94f5f6"
   },
   "outputs": [
    {
     "name": "stdout",
     "output_type": "stream",
     "text": [
      "Number of Datapoints in correct_df: 2247\n",
      "Number of Datapoints in incorrect_df: 2254\n"
     ]
    }
   ],
   "source": [
    "correct_df = test_df[test_df.Accuracy != 0]\n",
    "incorrect_df = test_df[test_df.Accuracy == 0]\n",
    "print(\"Number of Datapoints in correct_df:\",len(correct_df))\n",
    "print(\"Number of Datapoints in incorrect_df:\",len(incorrect_df))"
   ]
  },
  {
   "cell_type": "code",
   "execution_count": null,
   "metadata": {
    "id": "6-WoIn7mcmnD"
   },
   "outputs": [],
   "source": [
    "def top_20_firstword_que(data_f):\n",
    "  first_word = pd.Series(list(data_f['question_preprocessed'])).apply(lambda x: x.split()[0])\n",
    "  data_f[\"que_word\"] = list(first_word)\n",
    "  df = pd.DataFrame((data_f.groupby(['que_word']).count()).index,columns=[\"que_word\"])\n",
    "  df[\"que_count\"] = list(data_f.groupby(['que_word']).count()['question_preprocessed'])\n",
    "  df[\"que%\"] = round(df[\"que_count\"]/len(correct_df)*100,2)\n",
    "  df = df.sort_values(by='que_count',ascending=False)\n",
    "  return [tuple(x) for x in df.values[:20]]"
   ]
  },
  {
   "cell_type": "code",
   "execution_count": null,
   "metadata": {
    "id": "vX9ZfXXUSho_"
   },
   "outputs": [],
   "source": [
    "def top_20_ans(data_f):\n",
    "  df = pd.DataFrame((data_f.groupby(['answer']).count()).index,columns=[\"answer\"])\n",
    "  df[\"answer_count\"] = list(data_f.groupby(['answer']).count()['answers'])\n",
    "  df[\"answer%\"] = round(df[\"answer_count\"]/len(correct_df)*100,2)\n",
    "  df = df.sort_values(by='answer_count',ascending=False)\n",
    "  return [tuple(x) for x in df.values[:20]]"
   ]
  },
  {
   "cell_type": "markdown",
   "metadata": {
    "id": "rV3RrMq6mTLP"
   },
   "source": [
    "### 1.1 Correct Predicted Datapoints Analysis"
   ]
  },
  {
   "cell_type": "code",
   "execution_count": null,
   "metadata": {
    "colab": {
     "base_uri": "https://localhost:8080/"
    },
    "id": "6PFc6o3qcCIu",
    "outputId": "d4eba971-66b4-49d1-9738-c925ccbd3633"
   },
   "outputs": [
    {
     "data": {
      "text/plain": [
       "[('is', 935, 41.61),\n",
       " ('what', 489, 21.76),\n",
       " ('are', 259, 11.53),\n",
       " ('how', 243, 10.81),\n",
       " ('does', 101, 4.49),\n",
       " ('do', 38, 1.69),\n",
       " ('can', 28, 1.25),\n",
       " ('which', 27, 1.2),\n",
       " ('could', 21, 0.93),\n",
       " ('where', 15, 0.67),\n",
       " ('has', 14, 0.62),\n",
       " ('did', 13, 0.58),\n",
       " ('would', 11, 0.49),\n",
       " ('will', 10, 0.45),\n",
       " ('who', 7, 0.31),\n",
       " ('was', 6, 0.27),\n",
       " ('if', 4, 0.18),\n",
       " ('overcast', 3, 0.13),\n",
       " ('yes', 3, 0.13),\n",
       " ('should', 2, 0.09)]"
      ]
     },
     "execution_count": 41,
     "metadata": {},
     "output_type": "execute_result"
    }
   ],
   "source": [
    "top_20_firstword_que(correct_df)"
   ]
  },
  {
   "cell_type": "code",
   "execution_count": null,
   "metadata": {
    "colab": {
     "base_uri": "https://localhost:8080/"
    },
    "id": "giTNb_ZmUOUg",
    "outputId": "bdd1c247-3abe-4947-df03-9c53b9988d35"
   },
   "outputs": [
    {
     "data": {
      "text/plain": [
       "[('no', 735, 32.71),\n",
       " ('yes', 693, 30.84),\n",
       " ('2', 102, 4.54),\n",
       " ('1', 85, 3.78),\n",
       " ('white', 81, 3.6),\n",
       " ('3', 24, 1.07),\n",
       " ('brown', 17, 0.76),\n",
       " ('right', 14, 0.62),\n",
       " ('tennis', 13, 0.58),\n",
       " ('blue', 13, 0.58),\n",
       " ('gray', 13, 0.58),\n",
       " ('red', 13, 0.58),\n",
       " ('bathroom', 13, 0.58),\n",
       " ('left', 12, 0.53),\n",
       " ('wood', 11, 0.49),\n",
       " ('black', 9, 0.4),\n",
       " ('4', 9, 0.4),\n",
       " ('0', 8, 0.36),\n",
       " ('pizza', 8, 0.36),\n",
       " ('skateboarding', 7, 0.31)]"
      ]
     },
     "execution_count": 42,
     "metadata": {},
     "output_type": "execute_result"
    }
   ],
   "source": [
    "top_20_ans(correct_df)"
   ]
  },
  {
   "cell_type": "markdown",
   "metadata": {
    "id": "wVwgCR9KmZ5A"
   },
   "source": [
    "### 1.2 Incorrect Predicted Datapoints Analysis"
   ]
  },
  {
   "cell_type": "code",
   "execution_count": null,
   "metadata": {
    "colab": {
     "base_uri": "https://localhost:8080/"
    },
    "id": "XeH1jKxpc23j",
    "outputId": "a5d022aa-45b8-4f26-a09c-33eb5e6314f3"
   },
   "outputs": [
    {
     "data": {
      "text/plain": [
       "[('what', 1151, 51.22),\n",
       " ('is', 387, 17.22),\n",
       " ('how', 354, 15.75),\n",
       " ('are', 109, 4.85),\n",
       " ('where', 62, 2.76),\n",
       " ('does', 39, 1.74),\n",
       " ('which', 26, 1.16),\n",
       " ('why', 22, 0.98),\n",
       " ('do', 19, 0.85),\n",
       " ('who', 14, 0.62),\n",
       " ('can', 13, 0.58),\n",
       " ('whats', 12, 0.53),\n",
       " ('has', 8, 0.36),\n",
       " ('could', 5, 0.22),\n",
       " ('would', 4, 0.18),\n",
       " ('the', 4, 0.18),\n",
       " ('of', 3, 0.13),\n",
       " ('was', 3, 0.13),\n",
       " ('if', 2, 0.09),\n",
       " ('in', 2, 0.09)]"
      ]
     },
     "execution_count": 43,
     "metadata": {},
     "output_type": "execute_result"
    }
   ],
   "source": [
    "top_20_firstword_que(incorrect_df)"
   ]
  },
  {
   "cell_type": "code",
   "execution_count": null,
   "metadata": {
    "colab": {
     "base_uri": "https://localhost:8080/"
    },
    "id": "HlY6iUVwMBax",
    "outputId": "bcff9573-3d7e-4bf3-adec-075ecd230c51"
   },
   "outputs": [
    {
     "data": {
      "text/plain": [
       "[('yes', 312, 13.89),\n",
       " ('no', 241, 10.73),\n",
       " ('1', 63, 2.8),\n",
       " ('3', 53, 2.36),\n",
       " ('blue', 52, 2.31),\n",
       " ('0', 51, 2.27),\n",
       " ('black', 51, 2.27),\n",
       " ('red', 49, 2.18),\n",
       " ('2', 43, 1.91),\n",
       " ('4', 40, 1.78),\n",
       " ('green', 38, 1.69),\n",
       " ('yellow', 29, 1.29),\n",
       " ('brown', 28, 1.25),\n",
       " ('5', 26, 1.16),\n",
       " ('white', 25, 1.11),\n",
       " ('nothing', 18, 0.8),\n",
       " ('none', 15, 0.67),\n",
       " ('frisbee', 15, 0.67),\n",
       " ('pink', 13, 0.58),\n",
       " ('baseball', 13, 0.58)]"
      ]
     },
     "execution_count": 44,
     "metadata": {},
     "output_type": "execute_result"
    }
   ],
   "source": [
    "top_20_ans(incorrect_df)"
   ]
  },
  {
   "cell_type": "markdown",
   "metadata": {
    "id": "iPD09qaRzbX3"
   },
   "source": [
    "### 1.3 Observations"
   ]
  },
  {
   "cell_type": "markdown",
   "metadata": {
    "id": "LYowHKpvv-no"
   },
   "source": [
    "* In Correctly predicted datapoints, most questions start with the 'is' word and in Incorrectly predicted datapoints, most questions start with the 'what' word.\n",
    "* In Correctly predicted datapoints, approx 60% of questions have 'yes' or 'no' answers.\n",
    "* In Incorrectly predicted datapoints, only 20% of questions have 'yes' or 'no' answers and most questions have numeric, color, and other types of answers.\n",
    "* From this Error analysis, we can conclude that questions that have 'yes' or 'no' answer types are mostly correctly predicted and questions that have numeric or other answer types are a little bit difficult to predict."
   ]
  }
 ],
 "metadata": {
  "accelerator": "GPU",
  "colab": {
   "collapsed_sections": [
    "Uqyq7HR9pooe",
    "dvKl4uNhpooe",
    "83pNne4K1oqy",
    "cGuPG0XPOuNj",
    "1QihwmxgOuNk",
    "EpuhK7pj7H65",
    "nUldIKiacB-l",
    "rV3RrMq6mTLP",
    "wVwgCR9KmZ5A",
    "iPD09qaRzbX3",
    "u5guJXfNeZN6"
   ],
   "machine_shape": "hm",
   "provenance": []
  },
  "gpuClass": "standard",
  "kernelspec": {
   "display_name": "Python 3 (ipykernel)",
   "language": "python",
   "name": "python3"
  },
  "language_info": {
   "codemirror_mode": {
    "name": "ipython",
    "version": 3
   },
   "file_extension": ".py",
   "mimetype": "text/x-python",
   "name": "python",
   "nbconvert_exporter": "python",
   "pygments_lexer": "ipython3",
   "version": "3.9.12"
  }
 },
 "nbformat": 4,
 "nbformat_minor": 1
}
